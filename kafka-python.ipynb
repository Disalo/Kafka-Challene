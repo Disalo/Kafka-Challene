{
 "cells": [
  {
   "cell_type": "markdown",
   "id": "f1437437",
   "metadata": {},
   "source": [
    "# KafkaServer"
   ]
  },
  {
   "cell_type": "code",
   "execution_count": 20,
   "id": "e53f191b",
   "metadata": {},
   "outputs": [],
   "source": [
    "from kafka.admin import KafkaAdminClient, NewTopic, ConfigResource, ConfigResourceType"
   ]
  },
  {
   "cell_type": "code",
   "execution_count": 12,
   "id": "1f9f5dff",
   "metadata": {},
   "outputs": [],
   "source": [
    "admin_client = KafkaAdminClient(bootstrap_servers=\"localhost:9092\", client_id='payam')"
   ]
  },
  {
   "cell_type": "code",
   "execution_count": 13,
   "id": "56d9e7f3",
   "metadata": {},
   "outputs": [],
   "source": [
    "topic_list = []"
   ]
  },
  {
   "cell_type": "code",
   "execution_count": 14,
   "id": "5daf0ac6",
   "metadata": {},
   "outputs": [],
   "source": [
    "new_topic = NewTopic(name=\"bankbranch\", num_partitions= 2, replication_factor=1)"
   ]
  },
  {
   "cell_type": "code",
   "execution_count": 15,
   "id": "bb5ee795",
   "metadata": {},
   "outputs": [],
   "source": [
    "topic_list.append(new_topic)"
   ]
  },
  {
   "cell_type": "code",
   "execution_count": 19,
   "id": "5848af45",
   "metadata": {},
   "outputs": [
    {
     "data": {
      "text/plain": [
       "CreateTopicsResponse_v3(throttle_time_ms=0, topic_errors=[(topic='bankbranch', error_code=0, error_message=None)])"
      ]
     },
     "execution_count": 19,
     "metadata": {},
     "output_type": "execute_result"
    }
   ],
   "source": [
    "admin_client.create_topics(new_topics=topic_list)"
   ]
  },
  {
   "cell_type": "code",
   "execution_count": 21,
   "id": "9d6a08d4",
   "metadata": {},
   "outputs": [],
   "source": [
    "configs = admin_client.describe_configs(config_resources=[ConfigResource(ConfigResourceType.TOPIC, \"bankbranch\")])"
   ]
  },
  {
   "cell_type": "markdown",
   "id": "feca2ac1",
   "metadata": {},
   "source": [
    "# KafkaProducer"
   ]
  },
  {
   "cell_type": "code",
   "execution_count": 23,
   "id": "93ca2ed5",
   "metadata": {},
   "outputs": [],
   "source": [
    "from kafka.producer import KafkaProducer\n",
    "import json"
   ]
  },
  {
   "cell_type": "code",
   "execution_count": 24,
   "id": "c2af29ac",
   "metadata": {},
   "outputs": [],
   "source": [
    "producer = KafkaProducer(value_serializer=lambda v: json.dumps(v).encode('utf-8'))"
   ]
  },
  {
   "cell_type": "code",
   "execution_count": 45,
   "id": "2b70ca7d",
   "metadata": {},
   "outputs": [
    {
     "data": {
      "text/plain": [
       "<kafka.producer.future.FutureRecordMetadata at 0x1118d4460>"
      ]
     },
     "execution_count": 45,
     "metadata": {},
     "output_type": "execute_result"
    }
   ],
   "source": [
    "producer.send(\"bankbranch\", {'atmid':1, 'transid':100})\n",
    "producer.send(\"bankbranch\", {'atmid':2, 'transid':101})\n",
    "producer.send(\"bankbranch\", {'atmid':2, 'transid':102})\n",
    "producer.send(\"bankbranch\", {'atmid':2, 'transid':103})\n",
    "producer.send(\"bankbranch\", {'atmid':2, 'transid':104})"
   ]
  },
  {
   "cell_type": "markdown",
   "id": "eaa68798",
   "metadata": {},
   "source": [
    "# KafkaConsumer"
   ]
  },
  {
   "cell_type": "code",
   "execution_count": 26,
   "id": "635efec3",
   "metadata": {},
   "outputs": [],
   "source": [
    "from kafka.consumer import KafkaConsumer"
   ]
  },
  {
   "cell_type": "code",
   "execution_count": 27,
   "id": "69b100e2",
   "metadata": {},
   "outputs": [],
   "source": [
    "consumer = KafkaConsumer('bankbranch')"
   ]
  },
  {
   "cell_type": "code",
   "execution_count": 29,
   "id": "babf9f96",
   "metadata": {},
   "outputs": [
    {
     "data": {
      "text/plain": [
       "<kafka.consumer.group.KafkaConsumer at 0x111133400>"
      ]
     },
     "execution_count": 29,
     "metadata": {},
     "output_type": "execute_result"
    }
   ],
   "source": [
    "consumer"
   ]
  },
  {
   "cell_type": "code",
   "execution_count": null,
   "id": "39073fdf",
   "metadata": {},
   "outputs": [],
   "source": [
    "for msg in consumer:\n",
    "    print(msg.value.decode(\"utf-8\"))"
   ]
  }
 ],
 "metadata": {
  "kernelspec": {
   "display_name": "Python 3 (ipykernel)",
   "language": "python",
   "name": "python3"
  },
  "language_info": {
   "codemirror_mode": {
    "name": "ipython",
    "version": 3
   },
   "file_extension": ".py",
   "mimetype": "text/x-python",
   "name": "python",
   "nbconvert_exporter": "python",
   "pygments_lexer": "ipython3",
   "version": "3.10.2"
  }
 },
 "nbformat": 4,
 "nbformat_minor": 5
}
