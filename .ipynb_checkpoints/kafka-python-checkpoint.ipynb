{
 "cells": [
  {
   "cell_type": "markdown",
   "id": "f1437437",
   "metadata": {},
   "source": [
    "# KafkaServer"
   ]
  },
  {
   "cell_type": "code",
   "execution_count": 7,
   "id": "e53f191b",
   "metadata": {},
   "outputs": [],
   "source": [
    "from kafka.admin import KafkaAdminClient, NewTopic, ConfigResource, ConfigResourceType"
   ]
  },
  {
   "cell_type": "code",
   "execution_count": 8,
   "id": "1f9f5dff",
   "metadata": {},
   "outputs": [],
   "source": [
    "admin_client = KafkaAdminClient(bootstrap_servers=\"localhost:9092\", client_id='payam')"
   ]
  },
  {
   "cell_type": "code",
   "execution_count": 9,
   "id": "56d9e7f3",
   "metadata": {},
   "outputs": [],
   "source": [
    "topic_list = []"
   ]
  },
  {
   "cell_type": "code",
   "execution_count": 10,
   "id": "5daf0ac6",
   "metadata": {},
   "outputs": [],
   "source": [
    "new_topic = NewTopic(name=\"ash\", num_partitions= 2, replication_factor=1)"
   ]
  },
  {
   "cell_type": "code",
   "execution_count": 11,
   "id": "bb5ee795",
   "metadata": {},
   "outputs": [],
   "source": [
    "topic_list.append(new_topic)"
   ]
  },
  {
   "cell_type": "code",
   "execution_count": 12,
   "id": "5848af45",
   "metadata": {},
   "outputs": [
    {
     "data": {
      "text/plain": [
       "CreateTopicsResponse_v3(throttle_time_ms=0, topic_errors=[(topic='ash', error_code=0, error_message=None)])"
      ]
     },
     "execution_count": 12,
     "metadata": {},
     "output_type": "execute_result"
    }
   ],
   "source": [
    "admin_client.create_topics(new_topics=topic_list)"
   ]
  },
  {
   "cell_type": "code",
   "execution_count": 13,
   "id": "9d6a08d4",
   "metadata": {},
   "outputs": [],
   "source": [
    "configs = admin_client.describe_configs(config_resources=[ConfigResource(ConfigResourceType.TOPIC, \"ash\")])"
   ]
  },
  {
   "cell_type": "markdown",
   "id": "feca2ac1",
   "metadata": {},
   "source": [
    "# KafkaProducer"
   ]
  },
  {
   "cell_type": "code",
   "execution_count": 14,
   "id": "93ca2ed5",
   "metadata": {},
   "outputs": [],
   "source": [
    "from kafka.producer import KafkaProducer\n",
    "import json"
   ]
  },
  {
   "cell_type": "code",
   "execution_count": 15,
   "id": "c2af29ac",
   "metadata": {},
   "outputs": [],
   "source": [
    "producer = KafkaProducer(value_serializer=lambda v: json.dumps(v).encode('utf-8'))"
   ]
  },
  {
   "cell_type": "code",
   "execution_count": 16,
   "id": "2b70ca7d",
   "metadata": {},
   "outputs": [
    {
     "data": {
      "text/plain": [
       "<kafka.producer.future.FutureRecordMetadata at 0x1131d1870>"
      ]
     },
     "execution_count": 16,
     "metadata": {},
     "output_type": "execute_result"
    }
   ],
   "source": [
    "#producer.send(\"ash\", {'atmid':1, 'transid':100})\n",
    "producer.send(\"ash\", {'atmid':2, 'transid':101})\n",
    "#producer.send(\"ash\", {'atmid':2, 'transid':102})\n",
    "#producer.send(\"ash\", {'atmid':2, 'transid':103})\n",
    "#producer.send(\"ash\", {'atmid':2, 'transid':104})"
   ]
  },
  {
   "cell_type": "markdown",
   "id": "eaa68798",
   "metadata": {},
   "source": [
    "# KafkaConsumer"
   ]
  },
  {
   "cell_type": "code",
   "execution_count": 17,
   "id": "635efec3",
   "metadata": {},
   "outputs": [],
   "source": [
    "from kafka.consumer import KafkaConsumer"
   ]
  },
  {
   "cell_type": "code",
   "execution_count": 18,
   "id": "69b100e2",
   "metadata": {},
   "outputs": [],
   "source": [
    "consumer = KafkaConsumer('ash')"
   ]
  },
  {
   "cell_type": "code",
   "execution_count": 19,
   "id": "babf9f96",
   "metadata": {},
   "outputs": [
    {
     "data": {
      "text/plain": [
       "<kafka.consumer.group.KafkaConsumer at 0x11324e6e0>"
      ]
     },
     "execution_count": 19,
     "metadata": {},
     "output_type": "execute_result"
    }
   ],
   "source": [
    "consumer"
   ]
  },
  {
   "cell_type": "code",
   "execution_count": null,
   "id": "39073fdf",
   "metadata": {},
   "outputs": [],
   "source": [
    "for msg in consumer:\n",
    "    print(msg.value.decode(\"utf-8\"))"
   ]
  },
  {
   "cell_type": "code",
   "execution_count": null,
   "id": "447e079f",
   "metadata": {},
   "outputs": [],
   "source": []
  }
 ],
 "metadata": {
  "kernelspec": {
   "display_name": "Python 3 (ipykernel)",
   "language": "python",
   "name": "python3"
  },
  "language_info": {
   "codemirror_mode": {
    "name": "ipython",
    "version": 3
   },
   "file_extension": ".py",
   "mimetype": "text/x-python",
   "name": "python",
   "nbconvert_exporter": "python",
   "pygments_lexer": "ipython3",
   "version": "3.10.2"
  }
 },
 "nbformat": 4,
 "nbformat_minor": 5
}
